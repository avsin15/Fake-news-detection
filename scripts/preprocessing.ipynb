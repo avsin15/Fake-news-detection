{
 "cells": [
  {
   "cell_type": "code",
   "execution_count": 10,
   "id": "25e0eaf1-6036-4c37-92be-5ef0f09d532f",
   "metadata": {},
   "outputs": [
    {
     "name": "stderr",
     "output_type": "stream",
     "text": [
      "[nltk_data] Error loading stopwords: <urlopen error [SSL:\n",
      "[nltk_data]     CERTIFICATE_VERIFY_FAILED] certificate verify failed:\n",
      "[nltk_data]     unable to get local issuer certificate (_ssl.c:1032)>\n"
     ]
    },
    {
     "name": "stdout",
     "output_type": "stream",
     "text": [
      "✅ Loaded 72134 rows. Cleaning text...\n",
      "💾 Saved cleaned data → data/processed/fake_news_clean.csv\n"
     ]
    }
   ],
   "source": [
    "\"\"\"\n",
    "Preprocessing for Fake News Dataset\n",
    "-------------------------------------------\n",
    "- Loads raw dataset\n",
    "- Cleans text (HTML tags, punctuation, stopwords)\n",
    "- Normalizes and saves processed CSV\n",
    "\"\"\"\n",
    "\n",
    "import os\n",
    "import re\n",
    "import pandas as pd\n",
    "import nltk\n",
    "from nltk.corpus import stopwords\n",
    "\n",
    "# Make sure stopwords are downloaded\n",
    "nltk.download(\"stopwords\")\n",
    "\n",
    "RAW_PATH = \"data/raw/fake_news.csv\"\n",
    "PROCESSED_PATH = \"data/processed/fake_news_clean.csv\"\n",
    "\n",
    "def clean_text(text):\n",
    "    if not isinstance(text, str):\n",
    "        return \"\"\n",
    "    text = re.sub(r\"<.*?>\", \" \", text)             # remove HTML tags\n",
    "    text = re.sub(r\"http\\S+|www\\S+\", \" \", text)    # remove URLs\n",
    "    text = re.sub(r\"[^a-zA-Z\\s]\", \" \", text)       # remove punctuation/numbers\n",
    "    text = text.lower()                            # lowercase\n",
    "    stop_words = set(stopwords.words(\"english\"))\n",
    "    tokens = [word for word in text.split() if word not in stop_words]\n",
    "    return \" \".join(tokens)\n",
    "\n",
    "def main():\n",
    "    if not os.path.exists(RAW_PATH):\n",
    "        raise FileNotFoundError(f\"❌ Dataset not found at {RAW_PATH}\")\n",
    "\n",
    "    df = pd.read_csv(RAW_PATH)\n",
    "\n",
    "    # Handle common column name variations\n",
    "    possible_text_cols = [c for c in df.columns if c.lower() in [\"text\", \"content\", \"article\", \"body\"]]\n",
    "    possible_label_cols = [c for c in df.columns if c.lower() in [\"label\", \"target\", \"fake\", \"class\"]]\n",
    "\n",
    "    if not possible_text_cols or not possible_label_cols:\n",
    "        raise ValueError(\"Could not find appropriate text/label columns.\")\n",
    "\n",
    "    text_col = possible_text_cols[0]\n",
    "    label_col = possible_label_cols[0]\n",
    "\n",
    "    df = df[[text_col, label_col]].rename(columns={text_col: \"text\", label_col: \"label\"})\n",
    "    print(f\"✅ Loaded {len(df)} rows. Cleaning text...\")\n",
    "\n",
    "    df[\"clean_text\"] = df[\"text\"].apply(clean_text)\n",
    "    df = df.dropna(subset=[\"clean_text\", \"label\"]).reset_index(drop=True)\n",
    "\n",
    "    os.makedirs(os.path.dirname(PROCESSED_PATH), exist_ok=True)\n",
    "    df.to_csv(PROCESSED_PATH, index=False)\n",
    "    print(f\"💾 Saved cleaned data → {PROCESSED_PATH}\")\n",
    "\n",
    "if __name__ == \"__main__\":\n",
    "    main()\n"
   ]
  },
  {
   "cell_type": "code",
   "execution_count": null,
   "id": "2f6973dd-d0ae-4f22-84c1-1b9c135364d6",
   "metadata": {},
   "outputs": [],
   "source": []
  }
 ],
 "metadata": {
  "kernelspec": {
   "display_name": "Python 3 (ipykernel)",
   "language": "python",
   "name": "python3"
  },
  "language_info": {
   "codemirror_mode": {
    "name": "ipython",
    "version": 3
   },
   "file_extension": ".py",
   "mimetype": "text/x-python",
   "name": "python",
   "nbconvert_exporter": "python",
   "pygments_lexer": "ipython3",
   "version": "3.13.7"
  }
 },
 "nbformat": 4,
 "nbformat_minor": 5
}
